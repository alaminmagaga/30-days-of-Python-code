{
 "cells": [
  {
   "cell_type": "code",
   "execution_count": 1,
   "id": "5e81b7ee",
   "metadata": {},
   "outputs": [
    {
     "name": "stdout",
     "output_type": "stream",
     "text": [
      "3.9.7\n"
     ]
    }
   ],
   "source": [
    "from platform import python_version\n",
    "print(python_version())"
   ]
  },
  {
   "cell_type": "code",
   "execution_count": 2,
   "id": "617d89fa",
   "metadata": {},
   "outputs": [
    {
     "name": "stdout",
     "output_type": "stream",
     "text": [
      "7\n"
     ]
    }
   ],
   "source": [
    "# addition\n",
    "print(3+4)"
   ]
  },
  {
   "cell_type": "code",
   "execution_count": 3,
   "id": "c1673d82",
   "metadata": {},
   "outputs": [
    {
     "name": "stdout",
     "output_type": "stream",
     "text": [
      "1\n"
     ]
    }
   ],
   "source": [
    "# subtraction\n",
    "print(4-3)"
   ]
  },
  {
   "cell_type": "code",
   "execution_count": 4,
   "id": "ab285550",
   "metadata": {},
   "outputs": [
    {
     "name": "stdout",
     "output_type": "stream",
     "text": [
      "12\n"
     ]
    }
   ],
   "source": [
    "# multiplication\n",
    "print(3*4)"
   ]
  },
  {
   "cell_type": "code",
   "execution_count": 5,
   "id": "620602a3",
   "metadata": {},
   "outputs": [
    {
     "name": "stdout",
     "output_type": "stream",
     "text": [
      "3\n"
     ]
    }
   ],
   "source": [
    "# modulus\n",
    "print(3%4)"
   ]
  },
  {
   "cell_type": "code",
   "execution_count": 6,
   "id": "0bb57296",
   "metadata": {},
   "outputs": [
    {
     "name": "stdout",
     "output_type": "stream",
     "text": [
      "12\n"
     ]
    }
   ],
   "source": [
    "# division\n",
    "print(3/4)"
   ]
  },
  {
   "cell_type": "code",
   "execution_count": 1,
   "id": "773fb195",
   "metadata": {},
   "outputs": [
    {
     "name": "stdout",
     "output_type": "stream",
     "text": [
      "0.75\n"
     ]
    }
   ],
   "source": [
    "# division\n",
    "print(3/4)"
   ]
  },
  {
   "cell_type": "code",
   "execution_count": 2,
   "id": "365ecb4a",
   "metadata": {},
   "outputs": [
    {
     "name": "stdout",
     "output_type": "stream",
     "text": [
      "81\n"
     ]
    }
   ],
   "source": [
    "# exponential\n",
    "print(3**4)"
   ]
  },
  {
   "cell_type": "code",
   "execution_count": 4,
   "id": "7d70b53e",
   "metadata": {},
   "outputs": [
    {
     "name": "stdout",
     "output_type": "stream",
     "text": [
      "1\n"
     ]
    }
   ],
   "source": [
    "# floor division operator\n",
    "print(4//3)"
   ]
  },
  {
   "cell_type": "markdown",
   "id": "a539c5da",
   "metadata": {},
   "source": [
    "Strings"
   ]
  },
  {
   "cell_type": "code",
   "execution_count": 5,
   "id": "a0d774c2",
   "metadata": {},
   "outputs": [
    {
     "name": "stdout",
     "output_type": "stream",
     "text": [
      "My Name is Alamin Musa Magaga\n"
     ]
    }
   ],
   "source": [
    "print(\"My Name is Alamin Musa Magaga\")"
   ]
  },
  {
   "cell_type": "code",
   "execution_count": 6,
   "id": "c10923b3",
   "metadata": {},
   "outputs": [
    {
     "name": "stdout",
     "output_type": "stream",
     "text": [
      "my family name is Magaga\n"
     ]
    }
   ],
   "source": [
    "print(\"my family name is Magaga\")"
   ]
  },
  {
   "cell_type": "code",
   "execution_count": 7,
   "id": "8f66f530",
   "metadata": {},
   "outputs": [
    {
     "name": "stdout",
     "output_type": "stream",
     "text": [
      "my country is Nigeria\n"
     ]
    }
   ],
   "source": [
    "print(\"my country is Nigeria\")"
   ]
  },
  {
   "cell_type": "code",
   "execution_count": 8,
   "id": "dea5f9bb",
   "metadata": {},
   "outputs": [
    {
     "name": "stdout",
     "output_type": "stream",
     "text": [
      "I am enjoying 30 days of python\n"
     ]
    }
   ],
   "source": [
    "print(\"I am enjoying 30 days of python\")"
   ]
  },
  {
   "cell_type": "markdown",
   "id": "dfdfcb6e",
   "metadata": {},
   "source": [
    "data types "
   ]
  },
  {
   "cell_type": "code",
   "execution_count": 13,
   "id": "43ec8b5b",
   "metadata": {},
   "outputs": [
    {
     "name": "stdout",
     "output_type": "stream",
     "text": [
      "<class 'int'>\n"
     ]
    }
   ],
   "source": [
    "print(type(10))"
   ]
  },
  {
   "cell_type": "code",
   "execution_count": 14,
   "id": "9bd3e6f1",
   "metadata": {},
   "outputs": [
    {
     "name": "stdout",
     "output_type": "stream",
     "text": [
      "<class 'float'>\n"
     ]
    }
   ],
   "source": [
    "print(type(9.8))"
   ]
  },
  {
   "cell_type": "code",
   "execution_count": 15,
   "id": "374c7040",
   "metadata": {},
   "outputs": [
    {
     "name": "stdout",
     "output_type": "stream",
     "text": [
      "<class 'float'>\n"
     ]
    }
   ],
   "source": [
    "print(type(3.14))"
   ]
  },
  {
   "cell_type": "code",
   "execution_count": 16,
   "id": "60d834dd",
   "metadata": {},
   "outputs": [
    {
     "name": "stdout",
     "output_type": "stream",
     "text": [
      "<class 'complex'>\n"
     ]
    }
   ],
   "source": [
    "print(type(4-4j))"
   ]
  },
  {
   "cell_type": "code",
   "execution_count": 17,
   "id": "6e59b515",
   "metadata": {},
   "outputs": [
    {
     "name": "stdout",
     "output_type": "stream",
     "text": [
      "<class 'list'>\n"
     ]
    }
   ],
   "source": [
    "print(type(['Asabeneh', 'Python', 'Finland']))"
   ]
  },
  {
   "cell_type": "code",
   "execution_count": 18,
   "id": "2d37a607",
   "metadata": {},
   "outputs": [
    {
     "name": "stdout",
     "output_type": "stream",
     "text": [
      "<class 'str'>\n"
     ]
    }
   ],
   "source": [
    "print(type(\"Alamin Musa Magaga\"))"
   ]
  },
  {
   "cell_type": "code",
   "execution_count": null,
   "id": "56b0d9cd",
   "metadata": {},
   "outputs": [],
   "source": [
    "print(type(\"Alamin Musa Magaga\"))"
   ]
  },
  {
   "cell_type": "code",
   "execution_count": 19,
   "id": "d1ce179e",
   "metadata": {},
   "outputs": [
    {
     "name": "stdout",
     "output_type": "stream",
     "text": [
      "<class 'str'>\n"
     ]
    }
   ],
   "source": [
    "print(type(\"Magaga\"))"
   ]
  },
  {
   "cell_type": "code",
   "execution_count": 20,
   "id": "fd256b69",
   "metadata": {},
   "outputs": [
    {
     "name": "stdout",
     "output_type": "stream",
     "text": [
      "<class 'str'>\n"
     ]
    }
   ],
   "source": [
    "print(type(\"Nigeria\"))"
   ]
  },
  {
   "cell_type": "markdown",
   "id": "ddf26a5f",
   "metadata": {},
   "source": [
    "Example of different Python data types"
   ]
  },
  {
   "cell_type": "code",
   "execution_count": 21,
   "id": "5bfa687b",
   "metadata": {},
   "outputs": [
    {
     "name": "stdout",
     "output_type": "stream",
     "text": [
      "<class 'int'>\n"
     ]
    }
   ],
   "source": [
    "# Integer\n",
    "print(type(20))          "
   ]
  },
  {
   "cell_type": "code",
   "execution_count": 22,
   "id": "3373140f",
   "metadata": {},
   "outputs": [
    {
     "name": "stdout",
     "output_type": "stream",
     "text": [
      "<class 'float'>\n"
     ]
    }
   ],
   "source": [
    "# Float\n",
    "print(type(5.6))   "
   ]
  },
  {
   "cell_type": "code",
   "execution_count": 23,
   "id": "ae6a2ca1",
   "metadata": {},
   "outputs": [
    {
     "name": "stdout",
     "output_type": "stream",
     "text": [
      "<class 'complex'>\n"
     ]
    }
   ],
   "source": [
    "# Complex Number\n",
    "print(type(2 + 6j))"
   ]
  },
  {
   "cell_type": "code",
   "execution_count": 24,
   "id": "1ce667de",
   "metadata": {},
   "outputs": [
    {
     "name": "stdout",
     "output_type": "stream",
     "text": [
      "<class 'str'>\n"
     ]
    }
   ],
   "source": [
    "# String\n",
    "print(type(\"hello world\")) "
   ]
  },
  {
   "cell_type": "code",
   "execution_count": 25,
   "id": "a14888f6",
   "metadata": {},
   "outputs": [
    {
     "name": "stdout",
     "output_type": "stream",
     "text": [
      "<class 'list'>\n"
     ]
    }
   ],
   "source": [
    "# List\n",
    "print(type([3, 2, 1]))   "
   ]
  },
  {
   "cell_type": "code",
   "execution_count": 26,
   "id": "940c2fc4",
   "metadata": {},
   "outputs": [
    {
     "name": "stdout",
     "output_type": "stream",
     "text": [
      "<class 'dict'>\n"
     ]
    }
   ],
   "source": [
    "# Dictionary\n",
    "print(type({'school':'BUK'})) "
   ]
  },
  {
   "cell_type": "code",
   "execution_count": 27,
   "id": "312eb9e5",
   "metadata": {},
   "outputs": [
    {
     "name": "stdout",
     "output_type": "stream",
     "text": [
      "<class 'set'>\n"
     ]
    }
   ],
   "source": [
    "print(type({9.8, 3.14, 2.7}))    # Set"
   ]
  },
  {
   "cell_type": "code",
   "execution_count": 28,
   "id": "0ab3cc5e",
   "metadata": {},
   "outputs": [
    {
     "name": "stdout",
     "output_type": "stream",
     "text": [
      "<class 'tuple'>\n"
     ]
    }
   ],
   "source": [
    "# Tuple\n",
    "print(type((4.6, 2.4, 7.1)))   "
   ]
  },
  {
   "cell_type": "markdown",
   "id": "4aeb671f",
   "metadata": {},
   "source": [
    "Euclidian distance between (2, 3) and (10, 8)"
   ]
  },
  {
   "cell_type": "code",
   "execution_count": 30,
   "id": "0f4fe53e",
   "metadata": {},
   "outputs": [
    {
     "name": "stdout",
     "output_type": "stream",
     "text": [
      "Euclidean distance: 9.433981132056603\n"
     ]
    }
   ],
   "source": [
    "import math\n",
    "x1,y1=2,3\n",
    "x2,y2=10,8\n",
    "\n",
    "distance=math.sqrt((x2-x1)**2 + (y2-y1)**2)\n",
    "\n",
    "print(\"Euclidean distance:\", distance)"
   ]
  },
  {
   "cell_type": "code",
   "execution_count": 31,
   "id": "b0dae9a7",
   "metadata": {},
   "outputs": [
    {
     "name": "stdout",
     "output_type": "stream",
     "text": [
      "True\n"
     ]
    }
   ],
   "source": [
    "is_married=True\n",
    "print(is_married)"
   ]
  },
  {
   "cell_type": "code",
   "execution_count": 37,
   "id": "818b8750",
   "metadata": {},
   "outputs": [
    {
     "name": "stdout",
     "output_type": "stream",
     "text": [
      "<class 'str'>\n",
      "<class 'str'>\n",
      "<class 'str'>\n",
      "<class 'str'>\n",
      "<class 'str'>\n",
      "<class 'int'>\n",
      "<class 'int'>\n",
      "<class 'bool'>\n",
      "<class 'bool'>\n",
      "<class 'bool'>\n",
      "<class 'str'>\n",
      "<class 'str'>\n",
      "<class 'str'>\n"
     ]
    }
   ],
   "source": [
    "# check data types of the variables\n",
    "# Day 2: 30 Days of python programming\n",
    "\n",
    "first_name=\"Alamin\"   # str\n",
    "last_name=\"musa\"      # str\n",
    "full_name=\"Alamin Musa Magaga\"    # str\n",
    "country=\"Nigeria\"\n",
    "city= 'Helsinki'        # str\n",
    "age = 250              # int\n",
    "year=2023              # str\n",
    "is_married=False       # bool\n",
    "is_true=False               # bool\n",
    "is_light_on=True               # bool\n",
    "school, state, faculty= 'BUK', 'Kano', 'Engineering'\n",
    "\n",
    "\n",
    "\n",
    "print(type(first_name))   # str\n",
    "print(type(last_name))    # str\n",
    "print(type(full_name))     # str\n",
    "print(type(country))      # str\n",
    "print(type(city))         # str\n",
    "print(type(age))          # int\n",
    "print(type(year))           # int\n",
    "print(type(is_married))       # bool\n",
    "print(type(is_true))            # bool\n",
    "print(type(is_light_on))             # bool\n",
    "\n",
    "\n",
    "print(type(school))\n",
    "print(type(state))\n",
    "print(type(faculty))"
   ]
  },
  {
   "cell_type": "code",
   "execution_count": 38,
   "id": "9c2e8fba",
   "metadata": {},
   "outputs": [
    {
     "name": "stdout",
     "output_type": "stream",
     "text": [
      "6\n"
     ]
    }
   ],
   "source": [
    "print(len(first_name))"
   ]
  },
  {
   "cell_type": "code",
   "execution_count": 43,
   "id": "1a990d52",
   "metadata": {},
   "outputs": [
    {
     "name": "stdout",
     "output_type": "stream",
     "text": [
      "the length of my first name is  6  while the length of my last name is  4\n"
     ]
    }
   ],
   "source": [
    "print(\"the length of my first name is \",len(first_name),\" while the length of my last name is \",len(last_name))"
   ]
  },
  {
   "cell_type": "code",
   "execution_count": 44,
   "id": "e529aab1",
   "metadata": {},
   "outputs": [
    {
     "name": "stdout",
     "output_type": "stream",
     "text": [
      "['False', 'None', 'True', '__peg_parser__', 'and', 'as', 'assert', 'async', 'await', 'break', 'class', 'continue', 'def', 'del', 'elif', 'else', 'except', 'finally', 'for', 'from', 'global', 'if', 'import', 'in', 'is', 'lambda', 'nonlocal', 'not', 'or', 'pass', 'raise', 'return', 'try', 'while', 'with', 'yield']\n"
     ]
    }
   ],
   "source": [
    "import keyword\n",
    "print(keyword.kwlist)"
   ]
  },
  {
   "cell_type": "code",
   "execution_count": 46,
   "id": "bb15dd14",
   "metadata": {},
   "outputs": [],
   "source": [
    "ages = [19, 22, 19, 24, 20, 25, 26, 24, 25, 24]\n",
    "\n",
    "# Sort the list\n",
    "ages.sort()\n",
    "\n",
    "# Find the min and max age\n",
    "min_age = min(ages)\n",
    "max_age = max(ages)\n",
    "\n",
    "# Add the min age and the max age again to the list\n",
    "ages.append(min_age)\n",
    "ages.append(max_age)\n",
    "\n",
    "# Find the median age (one middle item or two middle items divided by two)\n",
    "length = len(ages)\n",
    "if length % 2 == 0:\n",
    "    median = (ages[length//2 - 1] + ages[length//2]) / 2\n",
    "else:\n",
    "    median = ages[length//2]\n",
    "\n",
    "# Find the average age (sum of all items divided by their number)\n",
    "average = sum(ages) / length\n",
    "\n",
    "# Find the range of the ages (max minus min)\n",
    "range_of_ages = max_age - min_age\n",
    "\n",
    "# Compare the value of (min - average) and (max - average), use abs() method\n",
    "min_avg_diff = abs(min_age - average)\n",
    "max_avg_diff = abs(max_age - average)\n",
    "\n",
    "# Find the middle country(ies) in the countries list\n",
    "countries = ['China', 'Russia', 'USA', 'Finland', 'Sweden', 'Norway', 'Denmark']\n",
    "length = len(countries)\n",
    "if length % 2 == 0:\n",
    "    middle = (countries[length//2 - 1] + countries[length//2]) / 2\n",
    "else:\n",
    "    middle = countries[length//2]\n",
    "\n",
    "# Divide the countries list into two equal lists if it is even if not one more country for the first half.\n",
    "half = length // 2\n",
    "first_half = countries[:half + length % 2]\n",
    "second_half = countries[half + length % 2:]\n",
    "\n",
    "# Unpack the first three countries and the rest as scandic countries.\n",
    "first_three_countries, *scandic_countries = countries\n"
   ]
  },
  {
   "cell_type": "code",
   "execution_count": null,
   "id": "d3343d44",
   "metadata": {},
   "outputs": [],
   "source": [
    "print"
   ]
  }
 ],
 "metadata": {
  "kernelspec": {
   "display_name": "Python 3 (ipykernel)",
   "language": "python",
   "name": "python3"
  },
  "language_info": {
   "codemirror_mode": {
    "name": "ipython",
    "version": 3
   },
   "file_extension": ".py",
   "mimetype": "text/x-python",
   "name": "python",
   "nbconvert_exporter": "python",
   "pygments_lexer": "ipython3",
   "version": "3.9.7"
  }
 },
 "nbformat": 4,
 "nbformat_minor": 5
}
